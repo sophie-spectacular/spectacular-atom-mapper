{
 "cells": [
  {
   "cell_type": "code",
   "execution_count": 23,
   "metadata": {},
   "outputs": [],
   "source": [
    "reaction1 = 'CCO.C(=O)Cl>>CCOC(=O)C'\n",
    "reaction2 = 'CCO.C(=O)Cl>>CC(O)C=O'\n",
    "reaction3 = 'CCO.C(=O)Cl>>CCCl.CO2'"
   ]
  },
  {
   "cell_type": "code",
   "execution_count": 34,
   "metadata": {},
   "outputs": [],
   "source": [
    "def assign_atom_mapping(smiles_reaction):\n",
    "    try:\n",
    "        reactants, products = smiles_reaction.split('>>')\n",
    "        reactant_smiles = reactants.split('.')\n",
    "        reactant_mols = [Chem.MolFromSmiles(r) for r in reactant_smiles]\n",
    "        \n",
    "        atom_map_num = 1  # Start numbering from 1 and increment globally\n",
    "        for mol in reactant_mols:\n",
    "            if mol:\n",
    "                for atom in mol.GetAtoms():\n",
    "                    atom.SetAtomMapNum(atom_map_num)\n",
    "                    atom_map_num += 1  # Increment for each atom globally\n",
    "        \n",
    "        mapped_reactants = '.'.join([Chem.MolToSmiles(mol, canonical=False) for mol in reactant_mols if mol])\n",
    "        mapped_reaction = f\"{mapped_reactants}>>{products}\"\n",
    "        \n",
    "        return mapped_reaction\n",
    "    except Exception as e:\n",
    "        return f\"Error processing reaction: {e}\""
   ]
  },
  {
   "cell_type": "code",
   "execution_count": 35,
   "metadata": {},
   "outputs": [
    {
     "name": "stderr",
     "output_type": "stream",
     "text": [
      "AlbertSdpaAttention is used but `torch.nn.functional.scaled_dot_product_attention` does not support non-absolute `position_embedding_type` or `output_attentions=True` or `head_mask`. Falling back to the eager attention implementation, but specifying the eager implementation will be required from Transformers version v5.0.0 onwards. This warning can be removed using the argument `attn_implementation=\"eager\"` when loading the model.\n",
      "AlbertSdpaAttention is used but `torch.nn.functional.scaled_dot_product_attention` does not support non-absolute `position_embedding_type` or `output_attentions=True` or `head_mask`. Falling back to the eager attention implementation, but specifying the eager implementation will be required from Transformers version v5.0.0 onwards. This warning can be removed using the argument `attn_implementation=\"eager\"` when loading the model.\n",
      "AlbertSdpaAttention is used but `torch.nn.functional.scaled_dot_product_attention` does not support non-absolute `position_embedding_type` or `output_attentions=True` or `head_mask`. Falling back to the eager attention implementation, but specifying the eager implementation will be required from Transformers version v5.0.0 onwards. This warning can be removed using the argument `attn_implementation=\"eager\"` when loading the model.\n",
      "AlbertSdpaAttention is used but `torch.nn.functional.scaled_dot_product_attention` does not support non-absolute `position_embedding_type` or `output_attentions=True` or `head_mask`. Falling back to the eager attention implementation, but specifying the eager implementation will be required from Transformers version v5.0.0 onwards. This warning can be removed using the argument `attn_implementation=\"eager\"` when loading the model.\n",
      "AlbertSdpaAttention is used but `torch.nn.functional.scaled_dot_product_attention` does not support non-absolute `position_embedding_type` or `output_attentions=True` or `head_mask`. Falling back to the eager attention implementation, but specifying the eager implementation will be required from Transformers version v5.0.0 onwards. This warning can be removed using the argument `attn_implementation=\"eager\"` when loading the model.\n",
      "AlbertSdpaAttention is used but `torch.nn.functional.scaled_dot_product_attention` does not support non-absolute `position_embedding_type` or `output_attentions=True` or `head_mask`. Falling back to the eager attention implementation, but specifying the eager implementation will be required from Transformers version v5.0.0 onwards. This warning can be removed using the argument `attn_implementation=\"eager\"` when loading the model.\n",
      "AlbertSdpaAttention is used but `torch.nn.functional.scaled_dot_product_attention` does not support non-absolute `position_embedding_type` or `output_attentions=True` or `head_mask`. Falling back to the eager attention implementation, but specifying the eager implementation will be required from Transformers version v5.0.0 onwards. This warning can be removed using the argument `attn_implementation=\"eager\"` when loading the model.\n",
      "AlbertSdpaAttention is used but `torch.nn.functional.scaled_dot_product_attention` does not support non-absolute `position_embedding_type` or `output_attentions=True` or `head_mask`. Falling back to the eager attention implementation, but specifying the eager implementation will be required from Transformers version v5.0.0 onwards. This warning can be removed using the argument `attn_implementation=\"eager\"` when loading the model.\n",
      "AlbertSdpaAttention is used but `torch.nn.functional.scaled_dot_product_attention` does not support non-absolute `position_embedding_type` or `output_attentions=True` or `head_mask`. Falling back to the eager attention implementation, but specifying the eager implementation will be required from Transformers version v5.0.0 onwards. This warning can be removed using the argument `attn_implementation=\"eager\"` when loading the model.\n",
      "AlbertSdpaAttention is used but `torch.nn.functional.scaled_dot_product_attention` does not support non-absolute `position_embedding_type` or `output_attentions=True` or `head_mask`. Falling back to the eager attention implementation, but specifying the eager implementation will be required from Transformers version v5.0.0 onwards. This warning can be removed using the argument `attn_implementation=\"eager\"` when loading the model.\n",
      "AlbertSdpaAttention is used but `torch.nn.functional.scaled_dot_product_attention` does not support non-absolute `position_embedding_type` or `output_attentions=True` or `head_mask`. Falling back to the eager attention implementation, but specifying the eager implementation will be required from Transformers version v5.0.0 onwards. This warning can be removed using the argument `attn_implementation=\"eager\"` when loading the model.\n",
      "AlbertSdpaAttention is used but `torch.nn.functional.scaled_dot_product_attention` does not support non-absolute `position_embedding_type` or `output_attentions=True` or `head_mask`. Falling back to the eager attention implementation, but specifying the eager implementation will be required from Transformers version v5.0.0 onwards. This warning can be removed using the argument `attn_implementation=\"eager\"` when loading the model.\n"
     ]
    },
    {
     "name": "stdout",
     "output_type": "stream",
     "text": [
      "CCO.C(=O)Cl>>CCOC(=O)C CCO.C(=O)Cl>>CC(O)C=O\n"
     ]
    },
    {
     "data": {
      "text/plain": [
       "['[CH3:1][CH2:2][OH:3].Cl[CH:4]=[O:6]>>[CH3:1][CH2:2][O:3][C:4]([CH3:5])=[O:6]',\n",
       " '[CH3:1][CH2:2][OH:3].Cl[CH:4]=[O:5]>>[CH3:1][CH:2]([OH:3])[CH:4]=[O:5]']"
      ]
     },
     "execution_count": 35,
     "metadata": {},
     "output_type": "execute_result"
    }
   ],
   "source": [
    "from rxnmapper import RXNMapper\n",
    "print(reaction1, reaction2)\n",
    "rxn_mapper = RXNMapper()\n",
    "results = rxn_mapper.get_attention_guided_atom_maps([reaction1, reaction2])\n",
    "[i['mapped_rxn'] for i in results]"
   ]
  },
  {
   "cell_type": "code",
   "execution_count": 36,
   "metadata": {},
   "outputs": [
    {
     "data": {
      "text/plain": [
       "'[CH3:1][CH2:2][OH:3].[CH:4](=[O:5])[Cl:6]>>CCOC(=O)C'"
      ]
     },
     "execution_count": 36,
     "metadata": {},
     "output_type": "execute_result"
    }
   ],
   "source": [
    "assign_atom_mapping(reaction1)"
   ]
  },
  {
   "cell_type": "code",
   "execution_count": 61,
   "metadata": {},
   "outputs": [],
   "source": [
    "import numpy as np\n",
    "def map_atom_mappings(nativesmiles, smiles2):\n",
    "    try:\n",
    "        mol2 = Chem.MolFromSmiles(smiles2)\n",
    "        \n",
    "        if not mol2:\n",
    "            raise ValueError(\"Invalid SMILES input.\")\n",
    "        \n",
    "        mapping_dict = {}\n",
    "\n",
    "        \n",
    "        atoms2 = [atom.GetAtomMapNum() for atom in mol2.GetAtoms() if atom.GetAtomMapNum()]\n",
    "        atoms1 = np.arange(1, len(atoms2)+1)\n",
    "        print(len(atoms1), len(atoms2))\n",
    "\n",
    "        for idx, i in enumerate(atoms1):\n",
    "            print(i, atoms2[idx])\n",
    "            mapping_dict[i] = atoms2[idx]\n",
    "        \n",
    "        return mapping_dict\n",
    "    except Exception as e:\n",
    "        return {\"error\": str(e)}"
   ]
  },
  {
   "cell_type": "code",
   "execution_count": 62,
   "metadata": {},
   "outputs": [
    {
     "name": "stdout",
     "output_type": "stream",
     "text": [
      "5 5\n",
      "1 1\n",
      "2 2\n",
      "3 3\n",
      "4 4\n",
      "5 6\n"
     ]
    },
    {
     "data": {
      "text/plain": [
       "{1: 1, 2: 2, 3: 3, 4: 4, 5: 6}"
      ]
     },
     "execution_count": 62,
     "metadata": {},
     "output_type": "execute_result"
    }
   ],
   "source": [
    "map_atom_mappings('[CH3:1][CH2:2][OH:3].[CH:4](=[O:5])[Cl:6]', '[CH3:1][CH2:2][OH:3].Cl[CH:4]=[O:6]')"
   ]
  }
 ],
 "metadata": {
  "kernelspec": {
   "display_name": "rxnmapper",
   "language": "python",
   "name": "python3"
  },
  "language_info": {
   "codemirror_mode": {
    "name": "ipython",
    "version": 3
   },
   "file_extension": ".py",
   "mimetype": "text/x-python",
   "name": "python",
   "nbconvert_exporter": "python",
   "pygments_lexer": "ipython3",
   "version": "3.8.20"
  }
 },
 "nbformat": 4,
 "nbformat_minor": 2
}
